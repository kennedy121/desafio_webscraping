{
 "cells": [
  {
   "cell_type": "code",
   "execution_count": 5,
   "metadata": {},
   "outputs": [
    {
     "ename": "ModuleNotFoundError",
     "evalue": "No module named 'requests'",
     "output_type": "error",
     "traceback": [
      "\u001b[1;31m---------------------------------------------------------------------------\u001b[0m",
      "\u001b[1;31mModuleNotFoundError\u001b[0m                       Traceback (most recent call last)",
      "Cell \u001b[1;32mIn[5], line 2\u001b[0m\n\u001b[0;32m      1\u001b[0m \u001b[38;5;28;01mimport\u001b[39;00m \u001b[38;5;21;01mtime\u001b[39;00m\n\u001b[1;32m----> 2\u001b[0m \u001b[38;5;28;01mimport\u001b[39;00m \u001b[38;5;21;01mrequests\u001b[39;00m\n\u001b[0;32m      3\u001b[0m \u001b[38;5;28;01mimport\u001b[39;00m \u001b[38;5;21;01mpandas\u001b[39;00m \u001b[38;5;28;01mas\u001b[39;00m \u001b[38;5;21;01mpd\u001b[39;00m\n\u001b[0;32m      4\u001b[0m \u001b[38;5;28;01mfrom\u001b[39;00m \u001b[38;5;21;01mopenpyxl\u001b[39;00m \u001b[38;5;28;01mimport\u001b[39;00m load_workbook\n",
      "\u001b[1;31mModuleNotFoundError\u001b[0m: No module named 'requests'"
     ]
    }
   ],
   "source": [
    "import time\n",
    "import requests\n",
    "import pandas as pd\n",
    "from openpyxl import load_workbook\n",
    "from bs4 import BeautifulSoup\n",
    "from selenium import webdriver\n",
    "import json\n",
    "\n",
    "\n",
    "from selenium.webdriver.common.action_chains import ActionChains\n",
    "from selenium.webdriver.common.keys import Keys\n",
    "driver = webdriver.Chrome()\n",
    "\n",
    "action = ActionChains(driver)\n",
    "tabela = pd.read_excel(\"Base.xlsx\")\n",
    "for i, CNPJ in enumerate(tabela[\"CNPJ\"]):\n",
    "    driver.get(\"http://www.cnd.der.pr.gov.br/cnd\") \n",
    "    driver.find_element_by_xpath('/html/body/div[1]/div[1]/div/div[2]/div[5]/form/div[1]/label[1]').click()\n",
    "    driver.find_element_by_xpath('/html/body/div[1]/div[1]/div/div[2]/div[5]/form/div[4]/div/input').send_keys(CNPJ)\n",
    "    driver.find_element_by_xpath('/html/body/div[1]/div[1]/div/div[2]/div[5]/form/button').click()  \n",
    "    time.sleep(2)\n",
    "    driver.find_element_by_xpath(\"//button[@id='visualize-positive-button']\").click()\n",
    "    time.sleep(20)\n",
    "    raz = driver.find_element_by_class_name(\"field-data-search\")\n",
    "    html_raz = raz.get_attribute('innerHTML')\n",
    "    print(html_raz)\n",
    "    cpf = driver.find_element_by_class_name(\"data-cnpj\")\n",
    "    html_cpf = cpf.get_attribute('innerHTML')\n",
    "    print(html_cpf)\n",
    "    element = driver.find_element_by_class_name(\"ng-scope\") \n",
    "    html_content = element.get_attribute('outerHTML')\n",
    "    soup = BeautifulSoup(html_content, \"html.parser\")\n",
    "    table = soup.find(name='table')\n",
    "    df_full = pd.read_html(str(table))[0].head(1000)\n",
    "    df = df_full[['Número do auto/Placa', 'Número da CR/Ano da CR', 'Data da infração/Documento']]\n",
    "    #df.to_excel(r'C:\\Users\\Kennedy\\Desktop\\Untitled Folder\\export_dataframe.xlsx',index=True,header=True,startrow=len(df_full)+1)\n",
    "    print(df)\n",
    "\n",
    "driver.quit()"
   ]
  },
  {
   "cell_type": "code",
   "execution_count": null,
   "metadata": {},
   "outputs": [],
   "source": []
  },
  {
   "cell_type": "code",
   "execution_count": null,
   "metadata": {},
   "outputs": [],
   "source": []
  },
  {
   "cell_type": "code",
   "execution_count": null,
   "metadata": {},
   "outputs": [],
   "source": []
  }
 ],
 "metadata": {
  "kernelspec": {
   "display_name": "Python 3",
   "language": "python",
   "name": "python3"
  },
  "language_info": {
   "codemirror_mode": {
    "name": "ipython",
    "version": 3
   },
   "file_extension": ".py",
   "mimetype": "text/x-python",
   "name": "python",
   "nbconvert_exporter": "python",
   "pygments_lexer": "ipython3",
   "version": "3.12.3"
  }
 },
 "nbformat": 4,
 "nbformat_minor": 2
}
