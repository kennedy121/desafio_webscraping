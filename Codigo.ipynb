{
 "cells": [
  {
   "cell_type": "code",
   "execution_count": 2,
   "metadata": {},
   "outputs": [
    {
     "name": "stderr",
     "output_type": "stream",
     "text": [
      "C:\\Users\\Kennedy\\AppData\\Local\\Temp\\ipykernel_18512\\445602313.py:18: DeprecationWarning: find_element_by_xpath is deprecated. Please use find_element(by=By.XPATH, value=xpath) instead\n",
      "  driver.find_element_by_xpath('/html/body/div[1]/div[1]/div/div[2]/div[5]/form/div[1]/label[1]').click()\n",
      "C:\\Users\\Kennedy\\AppData\\Local\\Temp\\ipykernel_18512\\445602313.py:19: DeprecationWarning: find_element_by_xpath is deprecated. Please use find_element(by=By.XPATH, value=xpath) instead\n",
      "  driver.find_element_by_xpath('/html/body/div[1]/div[1]/div/div[2]/div[5]/form/div[4]/div/input').send_keys(CNPJ)\n",
      "C:\\Users\\Kennedy\\AppData\\Local\\Temp\\ipykernel_18512\\445602313.py:20: DeprecationWarning: find_element_by_xpath is deprecated. Please use find_element(by=By.XPATH, value=xpath) instead\n",
      "  driver.find_element_by_xpath('/html/body/div[1]/div[1]/div/div[2]/div[5]/form/button').click()\n",
      "C:\\Users\\Kennedy\\AppData\\Local\\Temp\\ipykernel_18512\\445602313.py:22: DeprecationWarning: find_element_by_xpath is deprecated. Please use find_element(by=By.XPATH, value=xpath) instead\n",
      "  driver.find_element_by_xpath(\"//button[@id='visualize-positive-button']\").click()\n",
      "C:\\Users\\Kennedy\\AppData\\Local\\Temp\\ipykernel_18512\\445602313.py:24: DeprecationWarning: find_element_by_class_name is deprecated. Please use find_element(by=By.CLASS_NAME, value=name) instead\n",
      "  raz = driver.find_element_by_class_name(\"field-data-search\")\n",
      "C:\\Users\\Kennedy\\AppData\\Local\\Temp\\ipykernel_18512\\445602313.py:27: DeprecationWarning: find_element_by_class_name is deprecated. Please use find_element(by=By.CLASS_NAME, value=name) instead\n",
      "  cpf = driver.find_element_by_class_name(\"data-cnpj\")\n",
      "C:\\Users\\Kennedy\\AppData\\Local\\Temp\\ipykernel_18512\\445602313.py:30: DeprecationWarning: find_element_by_class_name is deprecated. Please use find_element(by=By.CLASS_NAME, value=name) instead\n",
      "  element = driver.find_element_by_class_name(\"ng-scope\")\n"
     ]
    },
    {
     "name": "stdout",
     "output_type": "stream",
     "text": [
      "SIPAL INDUSTRIA E COMERCIO LTDA\n",
      "02.937.632/0001-01 (Matriz)\n",
      "    Número do auto/Placa Número da CR/Ano da CR Data da infração/Documento\n",
      "0   N010005559 / AYM1794             52943/2017                 29/11/2016\n",
      "1   N010005553 / ATS4088             51189/2017                 25/11/2016\n",
      "2   N010006212 / BCL0443            222222/2018                 23/04/2018\n",
      "3   Q010028127 / BBP8801            223725/2018                 25/04/2018\n",
      "4   Q010028108 / BAU7120            223712/2018                 24/04/2018\n",
      "5   Q010028144 / AUO3771            223734/2018                 26/04/2018\n",
      "6   L002062131 / BAU7120            226219/2018                 24/04/2018\n",
      "7   Q010028498 / AKJ5959            257826/2018                 15/06/2018\n",
      "8   Q010028863 / BBP8801            283741/2018                 01/08/2018\n",
      "9   Q010028864 / BBP8804            283742/2018                 01/08/2018\n",
      "10  Q010028860 / BAU7120            283738/2018                 01/08/2018\n",
      "11  Q010029054 / AXL0613            291403/2018                 21/08/2018\n",
      "12  Q010029081 / BAU7120            291459/2018                 23/08/2018\n",
      "13  Q010029857 / BCT7B21            204878/2019                 02/04/2019\n",
      "14  Q010029887 / BDI1516            206620/2019                 05/04/2019\n",
      "15  Q010029885 / BAU7120            206619/2019                 04/04/2019\n",
      "16  B000021559 / AUL2463             34469/2020                 17/09/2019\n",
      "17  Q010031736 / BBP8801             15312/2021                 19/03/2020\n",
      "18  Q010032418 / BBP8804             20565/2021                 29/11/2020\n",
      "19  Q010031743 / ATL1578             23699/2021                 20/03/2020\n",
      "20  Q010031858 / BCM9127             19688/2021                 18/10/2020\n",
      "21  L002063903 / BCM9127             17262/2021                 18/10/2020\n",
      "22  Q010032443 / BCN3768             22782/2021                 01/12/2020\n",
      "23  Q010031721 / AYF3686             17237/2021                 19/03/2020\n",
      "24  NIC0424656 / AQO1909             49927/2021                 09/06/2021\n"
     ]
    },
    {
     "name": "stderr",
     "output_type": "stream",
     "text": [
      "C:\\Users\\Kennedy\\AppData\\Local\\Temp\\ipykernel_18512\\445602313.py:18: DeprecationWarning: find_element_by_xpath is deprecated. Please use find_element(by=By.XPATH, value=xpath) instead\n",
      "  driver.find_element_by_xpath('/html/body/div[1]/div[1]/div/div[2]/div[5]/form/div[1]/label[1]').click()\n",
      "C:\\Users\\Kennedy\\AppData\\Local\\Temp\\ipykernel_18512\\445602313.py:19: DeprecationWarning: find_element_by_xpath is deprecated. Please use find_element(by=By.XPATH, value=xpath) instead\n",
      "  driver.find_element_by_xpath('/html/body/div[1]/div[1]/div/div[2]/div[5]/form/div[4]/div/input').send_keys(CNPJ)\n",
      "C:\\Users\\Kennedy\\AppData\\Local\\Temp\\ipykernel_18512\\445602313.py:20: DeprecationWarning: find_element_by_xpath is deprecated. Please use find_element(by=By.XPATH, value=xpath) instead\n",
      "  driver.find_element_by_xpath('/html/body/div[1]/div[1]/div/div[2]/div[5]/form/button').click()\n",
      "C:\\Users\\Kennedy\\AppData\\Local\\Temp\\ipykernel_18512\\445602313.py:22: DeprecationWarning: find_element_by_xpath is deprecated. Please use find_element(by=By.XPATH, value=xpath) instead\n",
      "  driver.find_element_by_xpath(\"//button[@id='visualize-positive-button']\").click()\n",
      "C:\\Users\\Kennedy\\AppData\\Local\\Temp\\ipykernel_18512\\445602313.py:24: DeprecationWarning: find_element_by_class_name is deprecated. Please use find_element(by=By.CLASS_NAME, value=name) instead\n",
      "  raz = driver.find_element_by_class_name(\"field-data-search\")\n",
      "C:\\Users\\Kennedy\\AppData\\Local\\Temp\\ipykernel_18512\\445602313.py:27: DeprecationWarning: find_element_by_class_name is deprecated. Please use find_element(by=By.CLASS_NAME, value=name) instead\n",
      "  cpf = driver.find_element_by_class_name(\"data-cnpj\")\n",
      "C:\\Users\\Kennedy\\AppData\\Local\\Temp\\ipykernel_18512\\445602313.py:30: DeprecationWarning: find_element_by_class_name is deprecated. Please use find_element(by=By.CLASS_NAME, value=name) instead\n",
      "  element = driver.find_element_by_class_name(\"ng-scope\")\n"
     ]
    },
    {
     "name": "stdout",
     "output_type": "stream",
     "text": [
      "OVETRIL OLEOS VEJETAIS LTDA\n",
      "84.591.064/0026-52 (Filial)\n",
      "   Número do auto/Placa Número da CR/Ano da CR Data da infração/Documento\n",
      "0  Q000025135 / MHX5178            121464/2012                 06/05/2012\n",
      "1  N000049609 / AHY6411             25381/2017                 04/10/2016\n"
     ]
    },
    {
     "name": "stderr",
     "output_type": "stream",
     "text": [
      "C:\\Users\\Kennedy\\AppData\\Local\\Temp\\ipykernel_18512\\445602313.py:18: DeprecationWarning: find_element_by_xpath is deprecated. Please use find_element(by=By.XPATH, value=xpath) instead\n",
      "  driver.find_element_by_xpath('/html/body/div[1]/div[1]/div/div[2]/div[5]/form/div[1]/label[1]').click()\n",
      "C:\\Users\\Kennedy\\AppData\\Local\\Temp\\ipykernel_18512\\445602313.py:19: DeprecationWarning: find_element_by_xpath is deprecated. Please use find_element(by=By.XPATH, value=xpath) instead\n",
      "  driver.find_element_by_xpath('/html/body/div[1]/div[1]/div/div[2]/div[5]/form/div[4]/div/input').send_keys(CNPJ)\n",
      "C:\\Users\\Kennedy\\AppData\\Local\\Temp\\ipykernel_18512\\445602313.py:20: DeprecationWarning: find_element_by_xpath is deprecated. Please use find_element(by=By.XPATH, value=xpath) instead\n",
      "  driver.find_element_by_xpath('/html/body/div[1]/div[1]/div/div[2]/div[5]/form/button').click()\n",
      "C:\\Users\\Kennedy\\AppData\\Local\\Temp\\ipykernel_18512\\445602313.py:22: DeprecationWarning: find_element_by_xpath is deprecated. Please use find_element(by=By.XPATH, value=xpath) instead\n",
      "  driver.find_element_by_xpath(\"//button[@id='visualize-positive-button']\").click()\n",
      "C:\\Users\\Kennedy\\AppData\\Local\\Temp\\ipykernel_18512\\445602313.py:24: DeprecationWarning: find_element_by_class_name is deprecated. Please use find_element(by=By.CLASS_NAME, value=name) instead\n",
      "  raz = driver.find_element_by_class_name(\"field-data-search\")\n",
      "C:\\Users\\Kennedy\\AppData\\Local\\Temp\\ipykernel_18512\\445602313.py:27: DeprecationWarning: find_element_by_class_name is deprecated. Please use find_element(by=By.CLASS_NAME, value=name) instead\n",
      "  cpf = driver.find_element_by_class_name(\"data-cnpj\")\n",
      "C:\\Users\\Kennedy\\AppData\\Local\\Temp\\ipykernel_18512\\445602313.py:30: DeprecationWarning: find_element_by_class_name is deprecated. Please use find_element(by=By.CLASS_NAME, value=name) instead\n",
      "  element = driver.find_element_by_class_name(\"ng-scope\")\n"
     ]
    },
    {
     "name": "stdout",
     "output_type": "stream",
     "text": [
      "PLUMA CONFORTO E TURISMO S/A\n",
      "76.530.278/0001-32 (Matriz)\n",
      "     Número do auto/Placa Número da CR/Ano da CR Data da infração/Documento\n",
      "0    O000302350 / AJN4097             50261/2004                 30/04/2004\n",
      "1    P000014212 / AJN5431             88497/2007                 18/12/2003\n",
      "2    M000001424 / AHM1946              4035/2007                 17/02/2007\n",
      "3    A000061561 / AEN9214              3989/1999                 15/06/1999\n",
      "4                  022882            166036/2007                 03/12/2007\n",
      "..                    ...                    ...                        ...\n",
      "614  L006068417 / AJN5431             71321/2019                 24/09/2017\n",
      "615                038693              2878/2019                 20/01/2019\n",
      "616  L004076487 / AJM6145             96473/2019                 20/12/2017\n",
      "617  Q000045106 / AJM6145            102893/2019                 24/01/2018\n",
      "618  P000504513 / AJM6145            102890/2019                 19/01/2018\n",
      "\n",
      "[619 rows x 3 columns]\n"
     ]
    },
    {
     "name": "stderr",
     "output_type": "stream",
     "text": [
      "C:\\Users\\Kennedy\\AppData\\Local\\Temp\\ipykernel_18512\\445602313.py:18: DeprecationWarning: find_element_by_xpath is deprecated. Please use find_element(by=By.XPATH, value=xpath) instead\n",
      "  driver.find_element_by_xpath('/html/body/div[1]/div[1]/div/div[2]/div[5]/form/div[1]/label[1]').click()\n",
      "C:\\Users\\Kennedy\\AppData\\Local\\Temp\\ipykernel_18512\\445602313.py:19: DeprecationWarning: find_element_by_xpath is deprecated. Please use find_element(by=By.XPATH, value=xpath) instead\n",
      "  driver.find_element_by_xpath('/html/body/div[1]/div[1]/div/div[2]/div[5]/form/div[4]/div/input').send_keys(CNPJ)\n",
      "C:\\Users\\Kennedy\\AppData\\Local\\Temp\\ipykernel_18512\\445602313.py:20: DeprecationWarning: find_element_by_xpath is deprecated. Please use find_element(by=By.XPATH, value=xpath) instead\n",
      "  driver.find_element_by_xpath('/html/body/div[1]/div[1]/div/div[2]/div[5]/form/button').click()\n",
      "C:\\Users\\Kennedy\\AppData\\Local\\Temp\\ipykernel_18512\\445602313.py:22: DeprecationWarning: find_element_by_xpath is deprecated. Please use find_element(by=By.XPATH, value=xpath) instead\n",
      "  driver.find_element_by_xpath(\"//button[@id='visualize-positive-button']\").click()\n",
      "C:\\Users\\Kennedy\\AppData\\Local\\Temp\\ipykernel_18512\\445602313.py:24: DeprecationWarning: find_element_by_class_name is deprecated. Please use find_element(by=By.CLASS_NAME, value=name) instead\n",
      "  raz = driver.find_element_by_class_name(\"field-data-search\")\n",
      "C:\\Users\\Kennedy\\AppData\\Local\\Temp\\ipykernel_18512\\445602313.py:27: DeprecationWarning: find_element_by_class_name is deprecated. Please use find_element(by=By.CLASS_NAME, value=name) instead\n",
      "  cpf = driver.find_element_by_class_name(\"data-cnpj\")\n",
      "C:\\Users\\Kennedy\\AppData\\Local\\Temp\\ipykernel_18512\\445602313.py:30: DeprecationWarning: find_element_by_class_name is deprecated. Please use find_element(by=By.CLASS_NAME, value=name) instead\n",
      "  element = driver.find_element_by_class_name(\"ng-scope\")\n"
     ]
    },
    {
     "name": "stdout",
     "output_type": "stream",
     "text": [
      "ONIX PARTICIPACOES E EMPREENDIMENTOS LTD\n",
      "11.419.663/0001-61 (Matriz)\n",
      "   Número do auto/Placa Número da CR/Ano da CR Data da infração/Documento\n",
      "0  NIC0072049 / FEO7727            130254/2013                 21/05/2013\n"
     ]
    },
    {
     "name": "stderr",
     "output_type": "stream",
     "text": [
      "C:\\Users\\Kennedy\\AppData\\Local\\Temp\\ipykernel_18512\\445602313.py:18: DeprecationWarning: find_element_by_xpath is deprecated. Please use find_element(by=By.XPATH, value=xpath) instead\n",
      "  driver.find_element_by_xpath('/html/body/div[1]/div[1]/div/div[2]/div[5]/form/div[1]/label[1]').click()\n",
      "C:\\Users\\Kennedy\\AppData\\Local\\Temp\\ipykernel_18512\\445602313.py:19: DeprecationWarning: find_element_by_xpath is deprecated. Please use find_element(by=By.XPATH, value=xpath) instead\n",
      "  driver.find_element_by_xpath('/html/body/div[1]/div[1]/div/div[2]/div[5]/form/div[4]/div/input').send_keys(CNPJ)\n",
      "C:\\Users\\Kennedy\\AppData\\Local\\Temp\\ipykernel_18512\\445602313.py:20: DeprecationWarning: find_element_by_xpath is deprecated. Please use find_element(by=By.XPATH, value=xpath) instead\n",
      "  driver.find_element_by_xpath('/html/body/div[1]/div[1]/div/div[2]/div[5]/form/button').click()\n",
      "C:\\Users\\Kennedy\\AppData\\Local\\Temp\\ipykernel_18512\\445602313.py:22: DeprecationWarning: find_element_by_xpath is deprecated. Please use find_element(by=By.XPATH, value=xpath) instead\n",
      "  driver.find_element_by_xpath(\"//button[@id='visualize-positive-button']\").click()\n",
      "C:\\Users\\Kennedy\\AppData\\Local\\Temp\\ipykernel_18512\\445602313.py:24: DeprecationWarning: find_element_by_class_name is deprecated. Please use find_element(by=By.CLASS_NAME, value=name) instead\n",
      "  raz = driver.find_element_by_class_name(\"field-data-search\")\n",
      "C:\\Users\\Kennedy\\AppData\\Local\\Temp\\ipykernel_18512\\445602313.py:27: DeprecationWarning: find_element_by_class_name is deprecated. Please use find_element(by=By.CLASS_NAME, value=name) instead\n",
      "  cpf = driver.find_element_by_class_name(\"data-cnpj\")\n",
      "C:\\Users\\Kennedy\\AppData\\Local\\Temp\\ipykernel_18512\\445602313.py:30: DeprecationWarning: find_element_by_class_name is deprecated. Please use find_element(by=By.CLASS_NAME, value=name) instead\n",
      "  element = driver.find_element_by_class_name(\"ng-scope\")\n"
     ]
    },
    {
     "name": "stdout",
     "output_type": "stream",
     "text": [
      "TRANS ACRAN TRANSPORTE E LOGISTICA LTDA \n",
      "10.791.881/0001-60 (Matriz)\n",
      "   Número do auto/Placa Número da CR/Ano da CR Data da infração/Documento\n",
      "0  P000221249 / ATS5763            140281/2012                 31/05/2012\n",
      "1  T001128450 / AWQ6201            161008/2016                 19/04/2016\n"
     ]
    },
    {
     "name": "stderr",
     "output_type": "stream",
     "text": [
      "C:\\Users\\Kennedy\\AppData\\Local\\Temp\\ipykernel_18512\\445602313.py:18: DeprecationWarning: find_element_by_xpath is deprecated. Please use find_element(by=By.XPATH, value=xpath) instead\n",
      "  driver.find_element_by_xpath('/html/body/div[1]/div[1]/div/div[2]/div[5]/form/div[1]/label[1]').click()\n",
      "C:\\Users\\Kennedy\\AppData\\Local\\Temp\\ipykernel_18512\\445602313.py:19: DeprecationWarning: find_element_by_xpath is deprecated. Please use find_element(by=By.XPATH, value=xpath) instead\n",
      "  driver.find_element_by_xpath('/html/body/div[1]/div[1]/div/div[2]/div[5]/form/div[4]/div/input').send_keys(CNPJ)\n",
      "C:\\Users\\Kennedy\\AppData\\Local\\Temp\\ipykernel_18512\\445602313.py:20: DeprecationWarning: find_element_by_xpath is deprecated. Please use find_element(by=By.XPATH, value=xpath) instead\n",
      "  driver.find_element_by_xpath('/html/body/div[1]/div[1]/div/div[2]/div[5]/form/button').click()\n",
      "C:\\Users\\Kennedy\\AppData\\Local\\Temp\\ipykernel_18512\\445602313.py:22: DeprecationWarning: find_element_by_xpath is deprecated. Please use find_element(by=By.XPATH, value=xpath) instead\n",
      "  driver.find_element_by_xpath(\"//button[@id='visualize-positive-button']\").click()\n",
      "C:\\Users\\Kennedy\\AppData\\Local\\Temp\\ipykernel_18512\\445602313.py:24: DeprecationWarning: find_element_by_class_name is deprecated. Please use find_element(by=By.CLASS_NAME, value=name) instead\n",
      "  raz = driver.find_element_by_class_name(\"field-data-search\")\n",
      "C:\\Users\\Kennedy\\AppData\\Local\\Temp\\ipykernel_18512\\445602313.py:27: DeprecationWarning: find_element_by_class_name is deprecated. Please use find_element(by=By.CLASS_NAME, value=name) instead\n",
      "  cpf = driver.find_element_by_class_name(\"data-cnpj\")\n",
      "C:\\Users\\Kennedy\\AppData\\Local\\Temp\\ipykernel_18512\\445602313.py:30: DeprecationWarning: find_element_by_class_name is deprecated. Please use find_element(by=By.CLASS_NAME, value=name) instead\n",
      "  element = driver.find_element_by_class_name(\"ng-scope\")\n"
     ]
    },
    {
     "name": "stdout",
     "output_type": "stream",
     "text": [
      "TRANS-ACRAN DISTRIBUIDORA DE ALIMENTOS L\n",
      "10.983.348/0001-08 (Matriz)\n",
      "   Número do auto/Placa Número da CR/Ano da CR Data da infração/Documento\n",
      "0  F000266051 / AUO1356            263125/2013                 22/08/2013\n"
     ]
    },
    {
     "name": "stderr",
     "output_type": "stream",
     "text": [
      "C:\\Users\\Kennedy\\AppData\\Local\\Temp\\ipykernel_18512\\445602313.py:18: DeprecationWarning: find_element_by_xpath is deprecated. Please use find_element(by=By.XPATH, value=xpath) instead\n",
      "  driver.find_element_by_xpath('/html/body/div[1]/div[1]/div/div[2]/div[5]/form/div[1]/label[1]').click()\n",
      "C:\\Users\\Kennedy\\AppData\\Local\\Temp\\ipykernel_18512\\445602313.py:19: DeprecationWarning: find_element_by_xpath is deprecated. Please use find_element(by=By.XPATH, value=xpath) instead\n",
      "  driver.find_element_by_xpath('/html/body/div[1]/div[1]/div/div[2]/div[5]/form/div[4]/div/input').send_keys(CNPJ)\n",
      "C:\\Users\\Kennedy\\AppData\\Local\\Temp\\ipykernel_18512\\445602313.py:20: DeprecationWarning: find_element_by_xpath is deprecated. Please use find_element(by=By.XPATH, value=xpath) instead\n",
      "  driver.find_element_by_xpath('/html/body/div[1]/div[1]/div/div[2]/div[5]/form/button').click()\n",
      "C:\\Users\\Kennedy\\AppData\\Local\\Temp\\ipykernel_18512\\445602313.py:22: DeprecationWarning: find_element_by_xpath is deprecated. Please use find_element(by=By.XPATH, value=xpath) instead\n",
      "  driver.find_element_by_xpath(\"//button[@id='visualize-positive-button']\").click()\n",
      "C:\\Users\\Kennedy\\AppData\\Local\\Temp\\ipykernel_18512\\445602313.py:24: DeprecationWarning: find_element_by_class_name is deprecated. Please use find_element(by=By.CLASS_NAME, value=name) instead\n",
      "  raz = driver.find_element_by_class_name(\"field-data-search\")\n",
      "C:\\Users\\Kennedy\\AppData\\Local\\Temp\\ipykernel_18512\\445602313.py:27: DeprecationWarning: find_element_by_class_name is deprecated. Please use find_element(by=By.CLASS_NAME, value=name) instead\n",
      "  cpf = driver.find_element_by_class_name(\"data-cnpj\")\n",
      "C:\\Users\\Kennedy\\AppData\\Local\\Temp\\ipykernel_18512\\445602313.py:30: DeprecationWarning: find_element_by_class_name is deprecated. Please use find_element(by=By.CLASS_NAME, value=name) instead\n",
      "  element = driver.find_element_by_class_name(\"ng-scope\")\n"
     ]
    },
    {
     "name": "stdout",
     "output_type": "stream",
     "text": [
      "TOMBINI MAQ EQUIP ESCRIT LTDA\n",
      "81.233.439/0001-66 (Matriz)\n",
      "   Número do auto/Placa Número da CR/Ano da CR Data da infração/Documento\n",
      "0  L001026267 / AHG6902              5616/2007                 02/03/2007\n",
      "1  L001026259 / ALI0278              5619/2007                 01/03/2007\n",
      "2  L001026204 / ALI0278              4409/2007                 21/02/2007\n",
      "3  L001029519 / AJM2884             64456/2008                 04/06/2008\n",
      "4  T000725469 / ALI0278            277220/2012                 15/10/2012\n"
     ]
    },
    {
     "name": "stderr",
     "output_type": "stream",
     "text": [
      "C:\\Users\\Kennedy\\AppData\\Local\\Temp\\ipykernel_18512\\445602313.py:18: DeprecationWarning: find_element_by_xpath is deprecated. Please use find_element(by=By.XPATH, value=xpath) instead\n",
      "  driver.find_element_by_xpath('/html/body/div[1]/div[1]/div/div[2]/div[5]/form/div[1]/label[1]').click()\n",
      "C:\\Users\\Kennedy\\AppData\\Local\\Temp\\ipykernel_18512\\445602313.py:19: DeprecationWarning: find_element_by_xpath is deprecated. Please use find_element(by=By.XPATH, value=xpath) instead\n",
      "  driver.find_element_by_xpath('/html/body/div[1]/div[1]/div/div[2]/div[5]/form/div[4]/div/input').send_keys(CNPJ)\n",
      "C:\\Users\\Kennedy\\AppData\\Local\\Temp\\ipykernel_18512\\445602313.py:20: DeprecationWarning: find_element_by_xpath is deprecated. Please use find_element(by=By.XPATH, value=xpath) instead\n",
      "  driver.find_element_by_xpath('/html/body/div[1]/div[1]/div/div[2]/div[5]/form/button').click()\n",
      "C:\\Users\\Kennedy\\AppData\\Local\\Temp\\ipykernel_18512\\445602313.py:22: DeprecationWarning: find_element_by_xpath is deprecated. Please use find_element(by=By.XPATH, value=xpath) instead\n",
      "  driver.find_element_by_xpath(\"//button[@id='visualize-positive-button']\").click()\n",
      "C:\\Users\\Kennedy\\AppData\\Local\\Temp\\ipykernel_18512\\445602313.py:24: DeprecationWarning: find_element_by_class_name is deprecated. Please use find_element(by=By.CLASS_NAME, value=name) instead\n",
      "  raz = driver.find_element_by_class_name(\"field-data-search\")\n",
      "C:\\Users\\Kennedy\\AppData\\Local\\Temp\\ipykernel_18512\\445602313.py:27: DeprecationWarning: find_element_by_class_name is deprecated. Please use find_element(by=By.CLASS_NAME, value=name) instead\n",
      "  cpf = driver.find_element_by_class_name(\"data-cnpj\")\n",
      "C:\\Users\\Kennedy\\AppData\\Local\\Temp\\ipykernel_18512\\445602313.py:30: DeprecationWarning: find_element_by_class_name is deprecated. Please use find_element(by=By.CLASS_NAME, value=name) instead\n",
      "  element = driver.find_element_by_class_name(\"ng-scope\")\n"
     ]
    },
    {
     "name": "stdout",
     "output_type": "stream",
     "text": [
      "Tombini &amp;  Nickel - Móveis para Escritório Ltda.\n",
      "01.205.142/0001-58 (Matriz)\n",
      "   Número do auto/Placa Número da CR/Ano da CR Data da infração/Documento\n",
      "0  P000110197 / AHG6902            159728/2007                 30/11/2007\n",
      "1  NIC0044251 / CZL4669               684/2012                 29/11/2011\n"
     ]
    },
    {
     "name": "stderr",
     "output_type": "stream",
     "text": [
      "C:\\Users\\Kennedy\\AppData\\Local\\Temp\\ipykernel_18512\\445602313.py:18: DeprecationWarning: find_element_by_xpath is deprecated. Please use find_element(by=By.XPATH, value=xpath) instead\n",
      "  driver.find_element_by_xpath('/html/body/div[1]/div[1]/div/div[2]/div[5]/form/div[1]/label[1]').click()\n",
      "C:\\Users\\Kennedy\\AppData\\Local\\Temp\\ipykernel_18512\\445602313.py:19: DeprecationWarning: find_element_by_xpath is deprecated. Please use find_element(by=By.XPATH, value=xpath) instead\n",
      "  driver.find_element_by_xpath('/html/body/div[1]/div[1]/div/div[2]/div[5]/form/div[4]/div/input').send_keys(CNPJ)\n",
      "C:\\Users\\Kennedy\\AppData\\Local\\Temp\\ipykernel_18512\\445602313.py:20: DeprecationWarning: find_element_by_xpath is deprecated. Please use find_element(by=By.XPATH, value=xpath) instead\n",
      "  driver.find_element_by_xpath('/html/body/div[1]/div[1]/div/div[2]/div[5]/form/button').click()\n",
      "C:\\Users\\Kennedy\\AppData\\Local\\Temp\\ipykernel_18512\\445602313.py:22: DeprecationWarning: find_element_by_xpath is deprecated. Please use find_element(by=By.XPATH, value=xpath) instead\n",
      "  driver.find_element_by_xpath(\"//button[@id='visualize-positive-button']\").click()\n",
      "C:\\Users\\Kennedy\\AppData\\Local\\Temp\\ipykernel_18512\\445602313.py:24: DeprecationWarning: find_element_by_class_name is deprecated. Please use find_element(by=By.CLASS_NAME, value=name) instead\n",
      "  raz = driver.find_element_by_class_name(\"field-data-search\")\n",
      "C:\\Users\\Kennedy\\AppData\\Local\\Temp\\ipykernel_18512\\445602313.py:27: DeprecationWarning: find_element_by_class_name is deprecated. Please use find_element(by=By.CLASS_NAME, value=name) instead\n",
      "  cpf = driver.find_element_by_class_name(\"data-cnpj\")\n",
      "C:\\Users\\Kennedy\\AppData\\Local\\Temp\\ipykernel_18512\\445602313.py:30: DeprecationWarning: find_element_by_class_name is deprecated. Please use find_element(by=By.CLASS_NAME, value=name) instead\n",
      "  element = driver.find_element_by_class_name(\"ng-scope\")\n"
     ]
    },
    {
     "name": "stdout",
     "output_type": "stream",
     "text": [
      "TN IND E COM DE MOV INST COMS LTDA\n",
      "02.144.562/0001-34 (Matriz)\n",
      "   Número do auto/Placa Número da CR/Ano da CR Data da infração/Documento\n",
      "0  X001931304 / AJX6955              8812/2022                 08/10/2021\n",
      "1  NIC0539333 / AJX6955             88785/2022                 25/02/2022\n"
     ]
    }
   ],
   "source": [
    "import time\n",
    "import requests\n",
    "import pandas as pd\n",
    "from openpyxl import load_workbook\n",
    "from bs4 import BeautifulSoup\n",
    "from selenium import webdriver\n",
    "import json\n",
    "\n",
    "\n",
    "from selenium.webdriver.common.action_chains import ActionChains\n",
    "from selenium.webdriver.common.keys import Keys\n",
    "driver = webdriver.Chrome()\n",
    "\n",
    "action = ActionChains(driver)\n",
    "tabela = pd.read_excel(\"Base.xlsx\")\n",
    "for i, CNPJ in enumerate(tabela[\"CNPJ\"]):\n",
    "    driver.get(\"http://www.cnd.der.pr.gov.br/cnd\") \n",
    "    driver.find_element_by_xpath('/html/body/div[1]/div[1]/div/div[2]/div[5]/form/div[1]/label[1]').click()\n",
    "    driver.find_element_by_xpath('/html/body/div[1]/div[1]/div/div[2]/div[5]/form/div[4]/div/input').send_keys(CNPJ)\n",
    "    driver.find_element_by_xpath('/html/body/div[1]/div[1]/div/div[2]/div[5]/form/button').click()  \n",
    "    time.sleep(2)\n",
    "    driver.find_element_by_xpath(\"//button[@id='visualize-positive-button']\").click()\n",
    "    time.sleep(20)\n",
    "    raz = driver.find_element_by_class_name(\"field-data-search\")\n",
    "    html_raz = raz.get_attribute('innerHTML')\n",
    "    print(html_raz)\n",
    "    cpf = driver.find_element_by_class_name(\"data-cnpj\")\n",
    "    html_cpf = cpf.get_attribute('innerHTML')\n",
    "    print(html_cpf)\n",
    "    element = driver.find_element_by_class_name(\"ng-scope\") \n",
    "    html_content = element.get_attribute('outerHTML')\n",
    "    soup = BeautifulSoup(html_content, \"html.parser\")\n",
    "    table = soup.find(name='table')\n",
    "    df_full = pd.read_html(str(table))[0].head(1000)\n",
    "    df = df_full[['Número do auto/Placa', 'Número da CR/Ano da CR', 'Data da infração/Documento']]\n",
    "    #df.to_excel(r'C:\\Users\\Kennedy\\Desktop\\Untitled Folder\\export_dataframe.xlsx',index=True,header=True,startrow=len(df_full)+1)\n",
    "    print(df)\n",
    "\n",
    "driver.quit()"
   ]
  },
  {
   "cell_type": "code",
   "execution_count": null,
   "metadata": {},
   "outputs": [],
   "source": []
  },
  {
   "cell_type": "code",
   "execution_count": null,
   "metadata": {},
   "outputs": [],
   "source": []
  },
  {
   "cell_type": "code",
   "execution_count": null,
   "metadata": {},
   "outputs": [],
   "source": []
  }
 ],
 "metadata": {
  "interpreter": {
   "hash": "85cd7992146d9b7828d76771fe42efc3cf1c3cf98ad67d81f6498073c38a8887"
  },
  "kernelspec": {
   "display_name": "Python 3 (ipykernel)",
   "language": "python",
   "name": "python3"
  },
  "language_info": {
   "codemirror_mode": {
    "name": "ipython",
    "version": 3
   },
   "file_extension": ".py",
   "mimetype": "text/x-python",
   "name": "python",
   "nbconvert_exporter": "python",
   "pygments_lexer": "ipython3",
   "version": "3.9.12"
  }
 },
 "nbformat": 4,
 "nbformat_minor": 2
}
